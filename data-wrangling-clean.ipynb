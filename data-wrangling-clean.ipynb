{
 "cells": [
  {
   "cell_type": "code",
   "execution_count": 1,
   "id": "ceb7c4c3-0527-4c36-8a16-2e2be4abf4aa",
   "metadata": {},
   "outputs": [
    {
     "data": {
      "text/plain": [
       "DataTransformerRegistry.enable('default')"
      ]
     },
     "execution_count": 1,
     "metadata": {},
     "output_type": "execute_result"
    }
   ],
   "source": [
    "import pandas as pd\n",
    "import altair as alt\n",
    "import numpy as np\n",
    "from altair_saver import save\n",
    "import altair\n",
    "alt.data_transformers.disable_max_rows()"
   ]
  },
  {
   "cell_type": "markdown",
   "id": "0c2afda9-0816-4f64-b0d4-48c1a1880702",
   "metadata": {
    "tags": []
   },
   "source": [
    "# Bracken"
   ]
  },
  {
   "cell_type": "markdown",
   "id": "a6ff98fc-2d83-4e2c-b932-c9c53199338d",
   "metadata": {},
   "source": [
    "## Bracken raw df"
   ]
  },
  {
   "cell_type": "code",
   "execution_count": 143,
   "id": "934d4944-985b-44a8-92f5-5d6f4c1a8642",
   "metadata": {
    "tags": []
   },
   "outputs": [],
   "source": [
    "def df_bracken_species_raw(file: str, \n",
    "                           level: str = 'species',\n",
    "                           cutoff: float = 0.05,\n",
    "                           virus_only: bool = True) -> pd.DataFrame:\n",
    "    '''\n",
    "    Returns a df for the taxonomy found in the cleaned raw bracken report.\n",
    "    Used to generate bar plots of the different taxonomies. \n",
    "    \n",
    "    :param str file: Path to the bracken report.\n",
    "    :param str level: Level of taxonomy. [domain, phylum, class, order, family, genus, species]. Default = 'species'\n",
    "    :param float cutoff: Cutoff of percent the taxonomy level is present in. Default = 0.05\n",
    "    :param bool virus_only: Only include Viruses. Default = True\n",
    "    :return: pd.DataFrame\n",
    "    '''\n",
    "    \n",
    "    taxonomy = {'domain': 'D', \n",
    "                'phylum': 'P', \n",
    "                'class': 'K', \n",
    "                'order': 'O',\n",
    "                'family': 'F',\n",
    "                'genus': 'G',\n",
    "                'species': 'S'}\n",
    "     \n",
    "    df = (\n",
    "            pd.read_csv(file)\n",
    "              .loc[lambda x: x.level == taxonomy[level]]\n",
    "              .loc[lambda x: x.percent > cutoff]\n",
    "              .sort_values('percent', ascending=False)\n",
    "               \n",
    "           )\n",
    "    \n",
    "    if virus_only:\n",
    "        return df.loc[lambda x: x.domain == 'Virus']\n",
    "    return df\n"
   ]
  },
  {
   "cell_type": "markdown",
   "id": "ca5ee94e-e0b2-4270-ba51-b553c0c54d7e",
   "metadata": {},
   "source": [
    "## Bracken bar plot"
   ]
  },
  {
   "cell_type": "code",
   "execution_count": 299,
   "id": "e8df0228-526f-4075-9722-c9c7d1e988ee",
   "metadata": {},
   "outputs": [],
   "source": [
    "def bar_chart_bracken_raw(file: str, \n",
    "                          level: str = 'species',\n",
    "                          cutoff: float = 0.05,\n",
    "                          number: int = 10,\n",
    "                          virus_only=True) -> altair.vegalite.v4.api.Chart:\n",
    "    '''\n",
    "    Returns a bar chart of the taxnomies from the bracken species file. \n",
    "    \n",
    "    :param str file: Path to the bracken report.\n",
    "    :param str level: Level of taxonomy. [domain, phylum, class, order, family, genus, species]. Default = 'species'\n",
    "    :param float cutoff: Cutoff of percent the taxonomy level is present in. Default = 0.05\n",
    "    :param int number: The number bars to plot. Default = 10\n",
    "    :return: altair.vegalite.v4.api.Chart\n",
    "    '''\n",
    "    \n",
    "    df = df_bracken_species_raw(file, level, cutoff, virus_only)\n",
    "    \n",
    "    return alt.Chart(df.head(number)).mark_bar().encode(\n",
    "     alt.X('percent:Q', axis=alt.Axis(format='.1%'), title='Percent of reads'),\n",
    "     alt.Y('name:N', sort='-x', title=None),\n",
    "     alt.Color('name:N', title=None),\n",
    "     tooltip=[alt.Tooltip('domain:N'), alt.Tooltip('percent:Q', format='.1%')]\n",
    "      ).properties(\n",
    "        width=500, height=500)\n",
    "   \n",
    "#\n",
    "#plot = bar_chart_bracken_raw('results/cleaned_files/Bat-Guano-15_S6_L001_R_bracken_raw.csv', \n",
    "#                             'species',\n",
    "#                             cutoff=0.001,\n",
    "#                             number=6,\n",
    "#                             virus_only=True)\n",
    "#\n",
    "#plot"
   ]
  },
  {
   "cell_type": "markdown",
   "id": "edd506fc-4e7a-42b9-b3ab-0bfd7f22cbed",
   "metadata": {},
   "source": [
    "# Kaiju"
   ]
  },
  {
   "cell_type": "code",
   "execution_count": 401,
   "id": "1ead4ca9-127a-4ff6-9a47-aa88f0751836",
   "metadata": {},
   "outputs": [
    {
     "data": {
      "text/html": [
       "\n",
       "<div id=\"altair-viz-4bad070b60f748a986487c0da1873bc4\"></div>\n",
       "<script type=\"text/javascript\">\n",
       "  var VEGA_DEBUG = (typeof VEGA_DEBUG == \"undefined\") ? {} : VEGA_DEBUG;\n",
       "  (function(spec, embedOpt){\n",
       "    let outputDiv = document.currentScript.previousElementSibling;\n",
       "    if (outputDiv.id !== \"altair-viz-4bad070b60f748a986487c0da1873bc4\") {\n",
       "      outputDiv = document.getElementById(\"altair-viz-4bad070b60f748a986487c0da1873bc4\");\n",
       "    }\n",
       "    const paths = {\n",
       "      \"vega\": \"https://cdn.jsdelivr.net/npm//vega@5?noext\",\n",
       "      \"vega-lib\": \"https://cdn.jsdelivr.net/npm//vega-lib?noext\",\n",
       "      \"vega-lite\": \"https://cdn.jsdelivr.net/npm//vega-lite@4.17.0?noext\",\n",
       "      \"vega-embed\": \"https://cdn.jsdelivr.net/npm//vega-embed@6?noext\",\n",
       "    };\n",
       "\n",
       "    function maybeLoadScript(lib, version) {\n",
       "      var key = `${lib.replace(\"-\", \"\")}_version`;\n",
       "      return (VEGA_DEBUG[key] == version) ?\n",
       "        Promise.resolve(paths[lib]) :\n",
       "        new Promise(function(resolve, reject) {\n",
       "          var s = document.createElement('script');\n",
       "          document.getElementsByTagName(\"head\")[0].appendChild(s);\n",
       "          s.async = true;\n",
       "          s.onload = () => {\n",
       "            VEGA_DEBUG[key] = version;\n",
       "            return resolve(paths[lib]);\n",
       "          };\n",
       "          s.onerror = () => reject(`Error loading script: ${paths[lib]}`);\n",
       "          s.src = paths[lib];\n",
       "        });\n",
       "    }\n",
       "\n",
       "    function showError(err) {\n",
       "      outputDiv.innerHTML = `<div class=\"error\" style=\"color:red;\">${err}</div>`;\n",
       "      throw err;\n",
       "    }\n",
       "\n",
       "    function displayChart(vegaEmbed) {\n",
       "      vegaEmbed(outputDiv, spec, embedOpt)\n",
       "        .catch(err => showError(`Javascript Error: ${err.message}<br>This usually means there's a typo in your chart specification. See the javascript console for the full traceback.`));\n",
       "    }\n",
       "\n",
       "    if(typeof define === \"function\" && define.amd) {\n",
       "      requirejs.config({paths});\n",
       "      require([\"vega-embed\"], displayChart, err => showError(`Error loading script: ${err.message}`));\n",
       "    } else {\n",
       "      maybeLoadScript(\"vega\", \"5\")\n",
       "        .then(() => maybeLoadScript(\"vega-lite\", \"4.17.0\"))\n",
       "        .then(() => maybeLoadScript(\"vega-embed\", \"6\"))\n",
       "        .catch(showError)\n",
       "        .then(() => displayChart(vegaEmbed));\n",
       "    }\n",
       "  })({\"config\": {\"view\": {\"continuousWidth\": 400, \"continuousHeight\": 300}}, \"data\": {\"name\": \"data-1235317c7973c93c1d1fbe3c39193284\"}, \"mark\": \"bar\", \"encoding\": {\"color\": {\"field\": \"taxon_name\", \"title\": null, \"type\": \"nominal\"}, \"tooltip\": [{\"field\": \"taxonomy\", \"type\": \"ordinal\"}, {\"field\": \"percent\", \"format\": \".1%\", \"type\": \"quantitative\"}], \"x\": {\"axis\": {\"format\": \".1%\"}, \"field\": \"percent\", \"title\": \"Percent of reads\", \"type\": \"quantitative\"}, \"y\": {\"field\": \"taxon_name\", \"sort\": \"-x\", \"title\": null, \"type\": \"nominal\"}}, \"height\": 500, \"width\": 500, \"$schema\": \"https://vega.github.io/schema/vega-lite/v4.17.0.json\", \"datasets\": {\"data-1235317c7973c93c1d1fbe3c39193284\": [{\"taxon_id\": 11588, \"percent\": 0.44958008, \"taxon_name\": \"Rift Valley fever virus\", \"taxonomy\": [\"Viruses\", \"Orthornavirae\", \"Riboviria\", \"Rift Valley fever virus\", \"Rift Valley fever phlebovirus\", \"Phlebovirus\", \"Phenuiviridae\", \"Bunyavirales\", \"Ellioviricetes\", \"Polyploviricotina\", \"Negarnaviricota\"]}, {\"taxon_id\": 28295, \"percent\": 0.03130741, \"taxon_name\": \"Porcine epidemic diarrhea virus\", \"taxonomy\": [\"Orthocoronavirinae\", \"Pisoniviricetes\", \"Coronaviridae\", \"Cornidovirineae\", \"Nidovirales\", \"Viruses\", \"Pisuviricota\", \"Orthornavirae\", \"Riboviria\", \"Alphacoronavirus\", \"Porcine epidemic diarrhea virus\", \"Pedacovirus\"]}, {\"taxon_id\": 693999, \"percent\": 0.02846725, \"taxon_name\": \"Scotophilus bat coronavirus 512\", \"taxonomy\": [\"Scotophilus bat coronavirus 512\", \"Orthocoronavirinae\", \"Orthornavirae\", \"Pisuviricota\", \"Pisoniviricetes\", \"Nidovirales\", \"Cornidovirineae\", \"Coronaviridae\", \"Alphacoronavirus\", \"Viruses\", \"Pedacovirus\", \"Riboviria\"]}, {\"taxon_id\": 693996, \"percent\": 0.01856886, \"taxon_name\": \"Alphacoronavirus\", \"taxonomy\": [\"Cornidovirineae\", \"Pisuviricota\", \"Coronaviridae\", \"Orthocoronavirinae\", \"Alphacoronavirus\", \"Viruses\", \"Riboviria\", \"Orthornavirae\", \"Pisoniviricetes\", \"Nidovirales\"]}, {\"taxon_id\": 1384461, \"percent\": 0.01409771, \"taxon_name\": \"Bat coronavirus CDPHE15/USA/2006\", \"taxonomy\": [\"Colacovirus\", \"Bat coronavirus CDPHE15\", \"Cornidovirineae\", \"Nidovirales\", \"Pisoniviricetes\", \"Pisuviricota\", \"Orthornavirae\", \"Riboviria\", \"Viruses\", \"Bat coronavirus CDPHE15/USA/2006\", \"Orthocoronavirinae\", \"Alphacoronavirus\", \"Coronaviridae\"]}, {\"taxon_id\": 129951, \"percent\": 0.00912977, \"taxon_name\": \"Human mastadenovirus C\", \"taxonomy\": [\"Preplasmiviricota\", \"Human mastadenovirus C\", \"Bamfordvirae\", \"Varidnaviria\", \"Viruses\", \"Mastadenovirus\", \"Adenoviridae\", \"Rowavirales\", \"Tectiliviricetes\"]}, {\"taxon_id\": 11676, \"percent\": 0.00476173, \"taxon_name\": \"Human immunodeficiency virus 1\", \"taxonomy\": [\"Ortervirales\", \"Riboviria\", \"Revtraviricetes\", \"Retroviridae\", \"Orthoretrovirinae\", \"Lentivirus\", \"Human immunodeficiency virus 1\", \"Viruses\", \"Pararnavirae\", \"Artverviricota\"]}, {\"taxon_id\": 1503289, \"percent\": 0.00470549, \"taxon_name\": \"BtMr-AlphaCoV/SAX2011\", \"taxonomy\": [\"Pisuviricota\", \"Myotacovirus\", \"Orthornavirae\", \"Riboviria\", \"Viruses\", \"BtMr-AlphaCoV/SAX2011\", \"Myotis ricketti alphacoronavirus Sax-2011\", \"Alphacoronavirus\", \"Orthocoronavirinae\", \"Coronaviridae\", \"Nidovirales\", \"Pisoniviricetes\", \"Cornidovirineae\"]}, {\"taxon_id\": 1503292, \"percent\": 0.00421806, \"taxon_name\": \"BtRf-AlphaCoV/HuB2013\", \"taxonomy\": [\"Pisoniviricetes\", \"Decacovirus\", \"Cornidovirineae\", \"Nidovirales\", \"Pisuviricota\", \"Orthornavirae\", \"Riboviria\", \"Viruses\", \"BtRf-AlphaCoV/HuB2013\", \"Rhinolophus ferrumequinum alphacoronavirus HuB-2013\", \"Alphacoronavirus\", \"Orthocoronavirinae\", \"Coronaviridae\"]}, {\"taxon_id\": 2509505, \"percent\": 0.00421806, \"taxon_name\": \"Pedacovirus\", \"taxonomy\": [\"Coronaviridae\", \"Riboviria\", \"Orthornavirae\", \"Pisuviricota\", \"Pisoniviricetes\", \"Nidovirales\", \"Cornidovirineae\", \"Pedacovirus\", \"Orthocoronavirinae\", \"Alphacoronavirus\", \"Viruses\"]}]}}, {\"mode\": \"vega-lite\"});\n",
       "</script>"
      ],
      "text/plain": [
       "alt.Chart(...)"
      ]
     },
     "execution_count": 401,
     "metadata": {},
     "output_type": "execute_result"
    }
   ],
   "source": [
    "def bar_chart_kaiju_raw(file: str, \n",
    "                        cutoff: float = 0.05,\n",
    "                        number: int = 10) -> altair.vegalite.v4.api.Chart:\n",
    "    '''\n",
    "    Returns a bar chart of the taxnomies from the bracken species file. \n",
    "    \n",
    "    :param str file: Path to the bracken report.\n",
    "    :param str level: Level of taxonomy. [domain, phylum, class, order, family, genus, species]. Default = 'species'\n",
    "    :param float cutoff: Cutoff of percent the taxonomy level is present in. Default = 0.05\n",
    "    :param int number: The number bars to plot. Default = 10\n",
    "    :return: altair.vegalite.v4.api.Chart\n",
    "    '''\n",
    "    \n",
    "    df = (pd.read_csv(file)\n",
    "          .groupby(['taxon_id', 'percent', 'taxon_name'], as_index=False)\n",
    "          .agg(taxonomy=('taxonomy', list))\n",
    "          .sort_values('percent', ascending=False)\n",
    "          .loc[lambda x: x.percent > cutoff]\n",
    "         )\n",
    "    \n",
    "    \n",
    "    return alt.Chart(df.head(number)).mark_bar().encode(\n",
    "     alt.X('percent:Q', axis=alt.Axis(format='.1%'), title='Percent of reads'),\n",
    "     alt.Y('taxon_name:N', sort='-x', title=None),\n",
    "     alt.Color('taxon_name:N', title=None),\n",
    "     tooltip=[alt.Tooltip('taxonomy:O'), alt.Tooltip('percent:Q', format='.1%')]\n",
    "      ).properties(\n",
    "        width=500, height=500)\n",
    "   \n",
    "\n",
    "bar_chart_kaiju_raw('results/cleaned_files/Bat-Guano-15_S6_L001_R_kaiju_raw.csv',\n",
    "                   cutoff=0.00001)"
   ]
  },
  {
   "cell_type": "markdown",
   "id": "62d584ab-158b-48ac-b21e-ce47f64feb02",
   "metadata": {},
   "source": [
    "# Kaiju df megahit"
   ]
  },
  {
   "cell_type": "code",
   "execution_count": 160,
   "id": "88547d7e-908e-4bfe-9c6a-c9886f5ec36a",
   "metadata": {},
   "outputs": [],
   "source": [
    "def kaiju_names_df(file: str) -> pd.DataFrame:\n",
    "    \n",
    "    '''\n",
    "    Returns a df for the taxonomy found in the kaiju names report.\n",
    "    Used to generate bar plots of the different taxonomies. \n",
    "    \n",
    "    :param str file: Path to the kaiju report.\n",
    "    :param str level: Level of taxonomy. [domain, phylum, class, order, family, genus, species]. Default = 'species'\n",
    "    :param float cutoff: Cutoff of percent the taxonomy level is present in. Default = 0.05\n",
    "    :param bool virus_only: Only include Viruses. Default = True\n",
    "    :return: pd.DataFrame\n",
    "    '''\n",
    "    \n",
    "    return pd.read_csv(file, \n",
    "                sep='\\t', \n",
    "                header=None,\n",
    "                index_col=False,\n",
    "                names=['classfied', 'name','NCBI', 'match_length', \n",
    "                       'all_matches', 'aa_matches', 'aa_sequence', 'species'])\n",
    "               #).loc[:, ['name', 'match_length', 'aa_sequence', 'species', 'NCBI']]\n",
    "\n",
    "\n",
    "#kaiju_names_df('results/kaiju/megahit/Bat-Guano-15_S6_L001_R_names_megahit.out')\n"
   ]
  }
 ],
 "metadata": {
  "kernelspec": {
   "display_name": "Python 3 (ipykernel)",
   "language": "python",
   "name": "python3"
  },
  "language_info": {
   "codemirror_mode": {
    "name": "ipython",
    "version": 3
   },
   "file_extension": ".py",
   "mimetype": "text/x-python",
   "name": "python",
   "nbconvert_exporter": "python",
   "pygments_lexer": "ipython3",
   "version": "3.9.9"
  }
 },
 "nbformat": 4,
 "nbformat_minor": 5
}
