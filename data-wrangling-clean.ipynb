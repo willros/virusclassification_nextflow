{
 "cells": [
  {
   "cell_type": "code",
   "execution_count": 1,
   "id": "ceb7c4c3-0527-4c36-8a16-2e2be4abf4aa",
   "metadata": {},
   "outputs": [
    {
     "data": {
      "text/plain": [
       "DataTransformerRegistry.enable('default')"
      ]
     },
     "execution_count": 1,
     "metadata": {},
     "output_type": "execute_result"
    }
   ],
   "source": [
    "import pandas as pd\n",
    "import altair as alt\n",
    "import numpy as np\n",
    "from altair_saver import save\n",
    "import altair\n",
    "alt.data_transformers.disable_max_rows()"
   ]
  },
  {
   "cell_type": "markdown",
   "id": "0c2afda9-0816-4f64-b0d4-48c1a1880702",
   "metadata": {
    "tags": []
   },
   "source": [
    "# Bracken"
   ]
  },
  {
   "cell_type": "markdown",
   "id": "a6ff98fc-2d83-4e2c-b932-c9c53199338d",
   "metadata": {},
   "source": [
    "## Bracken raw plot"
   ]
  },
  {
   "cell_type": "code",
   "execution_count": 140,
   "id": "934d4944-985b-44a8-92f5-5d6f4c1a8642",
   "metadata": {
    "tags": []
   },
   "outputs": [
    {
     "data": {
      "text/html": [
       "\n",
       "<div id=\"altair-viz-ade8f8bdc7da48b8a1bedb84986fd014\"></div>\n",
       "<script type=\"text/javascript\">\n",
       "  var VEGA_DEBUG = (typeof VEGA_DEBUG == \"undefined\") ? {} : VEGA_DEBUG;\n",
       "  (function(spec, embedOpt){\n",
       "    let outputDiv = document.currentScript.previousElementSibling;\n",
       "    if (outputDiv.id !== \"altair-viz-ade8f8bdc7da48b8a1bedb84986fd014\") {\n",
       "      outputDiv = document.getElementById(\"altair-viz-ade8f8bdc7da48b8a1bedb84986fd014\");\n",
       "    }\n",
       "    const paths = {\n",
       "      \"vega\": \"https://cdn.jsdelivr.net/npm//vega@5?noext\",\n",
       "      \"vega-lib\": \"https://cdn.jsdelivr.net/npm//vega-lib?noext\",\n",
       "      \"vega-lite\": \"https://cdn.jsdelivr.net/npm//vega-lite@4.17.0?noext\",\n",
       "      \"vega-embed\": \"https://cdn.jsdelivr.net/npm//vega-embed@6?noext\",\n",
       "    };\n",
       "\n",
       "    function maybeLoadScript(lib, version) {\n",
       "      var key = `${lib.replace(\"-\", \"\")}_version`;\n",
       "      return (VEGA_DEBUG[key] == version) ?\n",
       "        Promise.resolve(paths[lib]) :\n",
       "        new Promise(function(resolve, reject) {\n",
       "          var s = document.createElement('script');\n",
       "          document.getElementsByTagName(\"head\")[0].appendChild(s);\n",
       "          s.async = true;\n",
       "          s.onload = () => {\n",
       "            VEGA_DEBUG[key] = version;\n",
       "            return resolve(paths[lib]);\n",
       "          };\n",
       "          s.onerror = () => reject(`Error loading script: ${paths[lib]}`);\n",
       "          s.src = paths[lib];\n",
       "        });\n",
       "    }\n",
       "\n",
       "    function showError(err) {\n",
       "      outputDiv.innerHTML = `<div class=\"error\" style=\"color:red;\">${err}</div>`;\n",
       "      throw err;\n",
       "    }\n",
       "\n",
       "    function displayChart(vegaEmbed) {\n",
       "      vegaEmbed(outputDiv, spec, embedOpt)\n",
       "        .catch(err => showError(`Javascript Error: ${err.message}<br>This usually means there's a typo in your chart specification. See the javascript console for the full traceback.`));\n",
       "    }\n",
       "\n",
       "    if(typeof define === \"function\" && define.amd) {\n",
       "      requirejs.config({paths});\n",
       "      require([\"vega-embed\"], displayChart, err => showError(`Error loading script: ${err.message}`));\n",
       "    } else {\n",
       "      maybeLoadScript(\"vega\", \"5\")\n",
       "        .then(() => maybeLoadScript(\"vega-lite\", \"4.17.0\"))\n",
       "        .then(() => maybeLoadScript(\"vega-embed\", \"6\"))\n",
       "        .catch(showError)\n",
       "        .then(() => displayChart(vegaEmbed));\n",
       "    }\n",
       "  })({\"config\": {\"view\": {\"continuousWidth\": 400, \"continuousHeight\": 300}}, \"data\": {\"name\": \"data-2291e889a17bda7ab6dc925087eb6c68\"}, \"mark\": \"bar\", \"encoding\": {\"color\": {\"field\": \"name\", \"title\": null, \"type\": \"nominal\"}, \"tooltip\": [{\"field\": \"domain\", \"type\": \"nominal\"}, {\"field\": \"percent\", \"format\": \".1%\", \"type\": \"quantitative\"}], \"x\": {\"axis\": {\"format\": \".1%\"}, \"field\": \"percent\", \"title\": \"Percent of reads\", \"type\": \"quantitative\"}, \"y\": {\"field\": \"name\", \"sort\": \"-x\", \"title\": null, \"type\": \"nominal\"}}, \"height\": 500, \"width\": 500, \"$schema\": \"https://vega.github.io/schema/vega-lite/v4.17.0.json\", \"datasets\": {\"data-2291e889a17bda7ab6dc925087eb6c68\": [{\"percent\": 0.7418, \"level\": \"D\", \"tax_id\": 10239, \"name\": \"  Viruses\", \"domain\": \"Virus\"}, {\"percent\": 0.2098, \"level\": \"D\", \"tax_id\": 2759, \"name\": \"    Eukaryota\", \"domain\": \"Eukaryota\"}, {\"percent\": 0.0484, \"level\": \"D\", \"tax_id\": 2, \"name\": \"    Bacteria\", \"domain\": \"Bacteria\"}]}}, {\"mode\": \"vega-lite\"});\n",
       "</script>"
      ],
      "text/plain": [
       "alt.Chart(...)"
      ]
     },
     "execution_count": 140,
     "metadata": {},
     "output_type": "execute_result"
    }
   ],
   "source": [
    "def df_bracken_species_raw(file: str, \n",
    "                           level: str = 'species',\n",
    "                           cutoff: float = 0.05,\n",
    "                           virus_only: bool = True) -> pd.DataFrame:\n",
    "    '''\n",
    "    Returns a df for the taxonomy found in the cleaned raw bracken report.\n",
    "    Used to generate bar plots of the different taxonomies. \n",
    "    \n",
    "    :param str file: Path to the bracken report.\n",
    "    :param str level: Level of taxonomy. [domain, phylum, class, order, family, genus, species]. Default = 'species'\n",
    "    :param float cutoff: Cutoff of percent the taxonomy level is present in. Default = 0.05\n",
    "    :param bool virus_only: Only include Viruses. Default = True\n",
    "    :return: pd.DataFrame\n",
    "    '''\n",
    "    \n",
    "    taxonomy = {'domain': 'D', \n",
    "                'phylum': 'P', \n",
    "                'class': 'K', \n",
    "                'order': 'O',\n",
    "                'family': 'F',\n",
    "                'genus': 'G',\n",
    "                'species': 'S'}\n",
    "     \n",
    "    df = (\n",
    "            pd.read_csv(file)\n",
    "              .loc[lambda x: x.level == taxonomy[level]]\n",
    "              .loc[lambda x: x.percent > cutoff]\n",
    "              .sort_values('percent', ascending=False)\n",
    "               \n",
    "           )\n",
    "    \n",
    "    if virus_only:\n",
    "        return df.loc[lambda x: x.domain == 'Virus']\n",
    "    return df\n",
    "\n",
    "\n",
    "\n",
    "def bar_chart_bracken_raw(file: str, \n",
    "                          level: str = 'species',\n",
    "                          cutoff: float = 0.05,\n",
    "                          number: int = 10,\n",
    "                          virus_only=True) -> altair.vegalite.v4.api.Chart:\n",
    "    '''\n",
    "    Returns a bar chart of the taxnomies from the bracken species file. \n",
    "    \n",
    "    :param str file: Path to the bracken report.\n",
    "    :param str level: Level of taxonomy. [domain, phylum, class, order, family, genus, species]. Default = 'species'\n",
    "    :param float cutoff: Cutoff of percent the taxonomy level is present in. Default = 0.05\n",
    "    :param int number: The number bars to plot. Default = 10\n",
    "    :return: altair.vegalite.v4.api.Chart\n",
    "    '''\n",
    "    \n",
    "    df = df_bracken_species_raw(file, level, cutoff, virus_only)\n",
    "    \n",
    "    return alt.Chart(df.head(number)).mark_bar().encode(\n",
    "     alt.X('percent:Q', axis=alt.Axis(format='.1%'), title='Percent of reads'),\n",
    "     alt.Y('name:N', sort='-x', title=None),\n",
    "     alt.Color('name:N', title=None),\n",
    "     tooltip=[alt.Tooltip('domain:N'), alt.Tooltip('percent:Q', format='.1%')]\n",
    "      ).properties(\n",
    "        width=500, height=500)\n",
    "    \n",
    "\n",
    "plot = bar_chart_bracken_raw('results/cleaned_files/Bat-Guano-15_S6_L001_R_bracken_raw.csv', \n",
    "                                   'domain',\n",
    "                                   cutoff=0.001,\n",
    "                            number=6,\n",
    "                            virus_only=False)\n",
    "\n",
    "plot"
   ]
  }
 ],
 "metadata": {
  "kernelspec": {
   "display_name": "Python 3 (ipykernel)",
   "language": "python",
   "name": "python3"
  },
  "language_info": {
   "codemirror_mode": {
    "name": "ipython",
    "version": 3
   },
   "file_extension": ".py",
   "mimetype": "text/x-python",
   "name": "python",
   "nbconvert_exporter": "python",
   "pygments_lexer": "ipython3",
   "version": "3.9.9"
  }
 },
 "nbformat": 4,
 "nbformat_minor": 5
}
